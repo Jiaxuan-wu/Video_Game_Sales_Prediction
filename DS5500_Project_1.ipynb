{
  "nbformat": 4,
  "nbformat_minor": 0,
  "metadata": {
    "colab": {
      "name": "DS5500 Project 1.ipynb",
      "provenance": [],
      "collapsed_sections": [],
      "toc_visible": true
    },
    "kernelspec": {
      "name": "python3",
      "display_name": "Python 3"
    }
  },
  "cells": [
    {
      "cell_type": "code",
      "metadata": {
        "id": "RMRSdBI47Pr7",
        "colab_type": "code",
        "colab": {}
      },
      "source": [
        "import pandas as pd\n",
        "import matplotlib.pyplot as plt\n",
        "import numpy as np\n",
        "from sklearn.preprocessing import OneHotEncoder\n",
        "import matplotlib.pyplot as plt"
      ],
      "execution_count": 0,
      "outputs": []
    },
    {
      "cell_type": "code",
      "metadata": {
        "id": "z60Siye9ymWx",
        "colab_type": "code",
        "colab": {}
      },
      "source": [
        "#### Base name\n",
        "def RomanToNumber(string):\n",
        "    string = str(string)\n",
        "    roman_dict = {'I': 1, 'II': 2, 'III': 3, 'IV': 4, 'V': 5, 'VI': 6, 'VII': 7, 'VIII': 8, 'IX': 9, 'X': 10}\n",
        "    char_list = string.split(' ')\n",
        "    new_name_list = []\n",
        "    for char in char_list:\n",
        "        if char in roman_dict:\n",
        "            new_name_list += [str(roman_dict[char])]\n",
        "        else:\n",
        "            new_name_list += [char]\n",
        "    return ' '.join(new_name_list)"
      ],
      "execution_count": 0,
      "outputs": []
    },
    {
      "cell_type": "markdown",
      "metadata": {
        "id": "U4aXZUZyVsVH",
        "colab_type": "text"
      },
      "source": [
        "## Pre-Processing"
      ]
    },
    {
      "cell_type": "code",
      "metadata": {
        "id": "AKiNX0S-7ZIp",
        "colab_type": "code",
        "colab": {}
      },
      "source": [
        "data = pd.read_csv('data/vgsales-12-4-2019.csv')\n",
        "data_filter = data[data['Year'] < 2020.0]\n",
        "data_filter = data_filter[data_filter['Year'] >= 2010.0]\n",
        "data_filter = data_filter[data_filter['Global_Sales'] != 0]\n",
        "data_filter = data_filter[data_filter['Global_Sales'].notna()]\n",
        "select_column = ['Name', 'Genre', 'ESRB_Rating', 'Platform', 'Publisher', 'Critic_Score', 'Global_Sales', 'Year']\n",
        "select_data = data_filter.loc[:, select_column]\n",
        "select_data['Global_Sales'] = select_data['Global_Sales']*0.81\n",
        "select_data['base_name'] = select_data.Name.replace('[^a-zA-Z0-9_ -]', '', regex=True) \n",
        "select_data['base_name'] = select_data[['base_name']].applymap(RomanToNumber)\n",
        "select_data['base_name'] = select_data.base_name.replace('[- +]', '_', regex=True).str.lower() "
      ],
      "execution_count": 0,
      "outputs": []
    },
    {
      "cell_type": "markdown",
      "metadata": {
        "id": "J_B4vTcHWBE7",
        "colab_type": "text"
      },
      "source": [
        "### Deal with *Publisher*"
      ]
    },
    {
      "cell_type": "code",
      "metadata": {
        "id": "y1H2QeywkpNh",
        "colab_type": "code",
        "colab": {}
      },
      "source": [
        "table = select_data.groupby(['Publisher','Name']).size().reset_index()\n",
        "publisher_table = table.groupby('Publisher').size().reset_index()\n",
        "publisher_table = publisher_table.rename(columns={0: \"Count\"})\n",
        "conditions = [\n",
        "  publisher_table['Count'] <= 50,\n",
        "  (publisher_table['Count'] > 50) & (publisher_table['Count'] <= 100),\n",
        "  (publisher_table['Count'] > 100), \n",
        "]\n",
        "choices = ['Small', 'Medium', 'Large']\n",
        "publisher_table['Company_Size'] = np.select(conditions, choices, default = \"No\")\n",
        "# Join the publisher table with select_data\n",
        "select_data = select_data.merge(publisher_table, on='Publisher', how='left')\n",
        "select_data = select_data.drop(columns=['Count', 'Publisher'])"
      ],
      "execution_count": 0,
      "outputs": []
    },
    {
      "cell_type": "markdown",
      "metadata": {
        "id": "gMk4FinlIJJp",
        "colab_type": "text"
      },
      "source": [
        "### Genre"
      ]
    },
    {
      "cell_type": "code",
      "metadata": {
        "id": "1oanjzSGa4Tq",
        "colab_type": "code",
        "colab": {}
      },
      "source": [
        "#### Genre\n",
        "select_data.groupby('Genre').count() \n",
        "genre_ex_list = ['Board Game', 'Education', 'Sandbox'] #delete 'Board Game', 'Education', 'Sandbox'\n",
        "select_data = select_data[~select_data.Genre.isin(genre_ex_list)]"
      ],
      "execution_count": 0,
      "outputs": []
    },
    {
      "cell_type": "markdown",
      "metadata": {
        "id": "emW-jXRfIO-X",
        "colab_type": "text"
      },
      "source": [
        "### ESBR Rating"
      ]
    },
    {
      "cell_type": "code",
      "metadata": {
        "id": "y4G0fwkYa4dr",
        "colab_type": "code",
        "colab": {}
      },
      "source": [
        "#### Group ESBR Rating\n",
        "conditions = [\n",
        "    select_data.ESRB_Rating.isin(['EC','E','E10']),\n",
        "    select_data['ESRB_Rating'] == 'T',\n",
        "    select_data['ESRB_Rating'] == 'M',\n",
        "    (select_data['ESRB_Rating'] == 'RP') | (select_data['ESRB_Rating'].isna())\n",
        "]\n",
        "choices = ['Level1', 'Level2', 'Level3','Level4']\n",
        "select_data['ESRB_Rating'] = np.select(conditions, choices, default = \"No\")"
      ],
      "execution_count": 0,
      "outputs": []
    },
    {
      "cell_type": "markdown",
      "metadata": {
        "id": "s33G5k87l_Q6",
        "colab_type": "text"
      },
      "source": [
        "### Add Price"
      ]
    },
    {
      "cell_type": "code",
      "metadata": {
        "id": "PfYG1RB5mCGx",
        "colab_type": "code",
        "colab": {}
      },
      "source": [
        "price_df = pd.read_csv('data/price-guide.csv')\n",
        "\n",
        "# Change console name to our data standard\n",
        "conditions = [\n",
        "  price_df['console-name'] == 'Nintendo 3DS',\n",
        "  price_df['console-name'] == 'Nintendo DS',\n",
        "  price_df['console-name'] == 'Nintendo Switch', \n",
        "  price_df['console-name'] == 'PSP',\n",
        "  price_df['console-name'] == 'Playstation 2',\n",
        "  price_df['console-name'] == 'Playstation 3',\n",
        "  price_df['console-name'] == 'Playstation 4',\n",
        "  price_df['console-name'] == 'Playstation Vita',\n",
        "  price_df['console-name'] == 'Wii',\n",
        "  price_df['console-name'] == 'Wii U',\n",
        "  price_df['console-name'] == 'Xbox',\n",
        "  price_df['console-name'] == 'Xbox 360',\n",
        "  price_df['console-name'] == 'Xbox One'\n",
        "]\n",
        "choices = ['3DS', 'DS', 'NS', 'PSP', 'PS2', 'PS3', 'PS4', \n",
        "           'PSV', 'Wii', 'WiiU', 'X360', 'X360', 'XOne']\n",
        "price_df['Platform'] = np.select(conditions, choices, default = \"No\")\n",
        "price_df = price_df.rename(columns={'product-name': 'Name'})\n",
        "\n",
        "# Filter the name that contains []\n",
        "price_df = price_df[~price_df['Name'].str.contains(\"\\[\")]"
      ],
      "execution_count": 0,
      "outputs": []
    },
    {
      "cell_type": "code",
      "metadata": {
        "id": "h4cndWf1pFKM",
        "colab_type": "code",
        "colab": {}
      },
      "source": [
        "price_df['base_name'] = price_df.Name.replace('[^a-zA-Z0-9_ -]', '', regex=True) \n",
        "price_df['base_name'] = price_df[['base_name']].applymap(RomanToNumber)\n",
        "price_df['base_name'] = price_df.base_name.replace('[- +]', '_', regex=True).str.lower()\n",
        "select_data = select_data.merge(price_df, on=['base_name','Platform'], how='left')\n",
        "select_data = select_data.drop(columns = ['Name_x', 'id', 'console-name', 'Name_y'])\n",
        "select_data = select_data.rename(columns = {\"new-price\": \"Price\"})\n",
        "select_data['Price'] = select_data['Price'].str.replace('$', '')\n",
        "select_data['Price'] = select_data['Price'].astype(float)"
      ],
      "execution_count": 0,
      "outputs": []
    },
    {
      "cell_type": "markdown",
      "metadata": {
        "id": "jffwobtz3iTO",
        "colab_type": "text"
      },
      "source": [
        "### Add Critic Score"
      ]
    },
    {
      "cell_type": "code",
      "metadata": {
        "id": "NvQri9dE3YLR",
        "colab_type": "code",
        "outputId": "12a148ce-7456-4f20-8054-7c256c2e707e",
        "colab": {
          "base_uri": "https://localhost:8080/",
          "height": 343
        }
      },
      "source": [
        "#### new score data\n",
        "tidytuesday = pd.read_csv('data/video_games.csv')\n",
        "tidytuesday['Critic_Score_new'] = tidytuesday['metascore']/10\n",
        "tidytuesday = tidytuesday[tidytuesday['Critic_Score_new'].notna()]\n",
        "score_data = tidytuesday[['game','Critic_Score_new']]\n",
        "score_data['base_name'] = score_data.game.replace('[^a-zA-Z0-9_ -]', '', regex=True) \n",
        "score_data['base_name'] = score_data[['base_name']].applymap(RomanToNumber)\n",
        "score_data['base_name'] = score_data.base_name.replace('[- +]', '_', regex=True).str.lower() "
      ],
      "execution_count": 185,
      "outputs": [
        {
          "output_type": "stream",
          "text": [
            "/usr/local/lib/python3.6/dist-packages/ipykernel_launcher.py:6: SettingWithCopyWarning: \n",
            "A value is trying to be set on a copy of a slice from a DataFrame.\n",
            "Try using .loc[row_indexer,col_indexer] = value instead\n",
            "\n",
            "See the caveats in the documentation: https://pandas.pydata.org/pandas-docs/stable/user_guide/indexing.html#returning-a-view-versus-a-copy\n",
            "  \n",
            "/usr/local/lib/python3.6/dist-packages/ipykernel_launcher.py:7: SettingWithCopyWarning: \n",
            "A value is trying to be set on a copy of a slice from a DataFrame.\n",
            "Try using .loc[row_indexer,col_indexer] = value instead\n",
            "\n",
            "See the caveats in the documentation: https://pandas.pydata.org/pandas-docs/stable/user_guide/indexing.html#returning-a-view-versus-a-copy\n",
            "  import sys\n",
            "/usr/local/lib/python3.6/dist-packages/ipykernel_launcher.py:8: SettingWithCopyWarning: \n",
            "A value is trying to be set on a copy of a slice from a DataFrame.\n",
            "Try using .loc[row_indexer,col_indexer] = value instead\n",
            "\n",
            "See the caveats in the documentation: https://pandas.pydata.org/pandas-docs/stable/user_guide/indexing.html#returning-a-view-versus-a-copy\n",
            "  \n"
          ],
          "name": "stderr"
        }
      ]
    },
    {
      "cell_type": "code",
      "metadata": {
        "id": "mTb-3sk13sL1",
        "colab_type": "code",
        "colab": {}
      },
      "source": [
        "select_data = select_data.merge(score_data, on=['base_name'], how='left')\n",
        "select_data['Critic_Score'] = select_data['Critic_Score'].where(~select_data.Critic_Score.isna(),select_data['Critic_Score_new'])"
      ],
      "execution_count": 0,
      "outputs": []
    },
    {
      "cell_type": "markdown",
      "metadata": {
        "id": "WVS0WnJDMcoU",
        "colab_type": "text"
      },
      "source": [
        "### if_not_score feature"
      ]
    },
    {
      "cell_type": "code",
      "metadata": {
        "id": "Is1Vps6zhivA",
        "colab_type": "code",
        "colab": {}
      },
      "source": [
        "select_data['if_not_score'] = select_data[['Critic_Score']].applymap(lambda x: 1 if pd.isnull(x) else 0)\n",
        "select_data['Critic_Score'] = select_data[['Critic_Score']].applymap(lambda x: 0 if pd.isnull(x) else x)"
      ],
      "execution_count": 0,
      "outputs": []
    },
    {
      "cell_type": "markdown",
      "metadata": {
        "id": "jtB2l7PEIlJa",
        "colab_type": "text"
      },
      "source": [
        "### Platform"
      ]
    },
    {
      "cell_type": "code",
      "metadata": {
        "id": "irjzygBua4kw",
        "colab_type": "code",
        "colab": {}
      },
      "source": [
        "#### Platform\n",
        "select_data.groupby('Platform').count() \n",
        "platform_ex_list = ['GBA', 'Mob', 'PSN','VC','XBL'] #delete 'GBA', 'Mob', 'PSN','VC','XBL'\n",
        "select_data = select_data[~select_data.Platform.isin(platform_ex_list)]"
      ],
      "execution_count": 0,
      "outputs": []
    },
    {
      "cell_type": "code",
      "metadata": {
        "id": "p8zw0iuja4jX",
        "colab_type": "code",
        "colab": {}
      },
      "source": [
        "#### Group Platform_new\n",
        "conditions = [\n",
        "    select_data['Platform'] == 'PC',\n",
        "    select_data.Platform.isin(['PS2','PS3','PS4','Wii','WiiU','X360','XOne']),\n",
        "    select_data.Platform.isin(['PSP','PSV','3DS','DS','NS'])\n",
        "]\n",
        "choices = ['PC', 'Game Console', 'Handheld']\n",
        "select_data['Platform'] = np.select(conditions, choices, default = \"No\")"
      ],
      "execution_count": 0,
      "outputs": []
    },
    {
      "cell_type": "code",
      "metadata": {
        "id": "iaqP9OAWIzWt",
        "colab_type": "code",
        "colab": {}
      },
      "source": [
        "data_ws = select_data.groupby(['base_name','Genre','Company_Size','ESRB_Rating','Platform','if_not_score']).agg({'Global_Sales':'sum', 'Critic_Score':'mean', 'Price':'mean'}).reset_index()[['base_name','Genre','Company_Size','ESRB_Rating','Platform','Critic_Score','Global_Sales','Price','if_not_score']]"
      ],
      "execution_count": 0,
      "outputs": []
    },
    {
      "cell_type": "markdown",
      "metadata": {
        "id": "2USGKmAUKwbt",
        "colab_type": "text"
      },
      "source": [
        "## Feature Engineering"
      ]
    },
    {
      "cell_type": "markdown",
      "metadata": {
        "id": "ex7uRxa8ABlw",
        "colab_type": "text"
      },
      "source": [
        "### Imputing Price"
      ]
    },
    {
      "cell_type": "code",
      "metadata": {
        "id": "R7z4Qe7DAHjq",
        "colab_type": "code",
        "colab": {}
      },
      "source": [
        "#### imputing price\n",
        "avg_genre_platform = data_ws.groupby(['Genre','Platform']).agg('mean').reset_index()[['Genre', 'Platform', 'Price']]\n",
        "avg_genre = data_ws.groupby('Genre').agg('mean').reset_index()[['Genre','Price']].rename(columns = {'Price':'Price_g'})\n",
        "avg_genre_platform = avg_genre_platform.merge(avg_genre, on=['Genre'], how='left')\n",
        "avg_genre_platform['Price_t'] = avg_genre_platform['Price'].where(~avg_genre_platform.Price.isna(),avg_genre_platform['Price_g'])\n",
        "avg_genre_platform = avg_genre_platform[['Genre','Platform','Price_t']]\n",
        "data_wps = data_ws.merge(avg_genre_platform, on=['Genre','Platform'], how='left')\n",
        "data_wps['Price'] = data_wps['Price'].where(~data_wps.Price.isna(), data_wps['Price_t'])\n",
        "data_wps = data_wps.drop(columns=['Price_t'])"
      ],
      "execution_count": 0,
      "outputs": []
    },
    {
      "cell_type": "markdown",
      "metadata": {
        "id": "Evoqwp0-noMy",
        "colab_type": "text"
      },
      "source": [
        "#### Output the raw data for UI"
      ]
    },
    {
      "cell_type": "code",
      "metadata": {
        "id": "Fk52gaaZnDrh",
        "colab_type": "code",
        "colab": {}
      },
      "source": [
        "## save the data for app.py\n",
        "data_wps.to_csv(\"data/data_v2_raw.csv\", index=False, header=True)"
      ],
      "execution_count": 0,
      "outputs": []
    },
    {
      "cell_type": "markdown",
      "metadata": {
        "id": "2svmVV5fYU9K",
        "colab_type": "text"
      },
      "source": [
        "### One-hot Encoder"
      ]
    },
    {
      "cell_type": "code",
      "metadata": {
        "id": "rxxV2nvdYuH2",
        "colab_type": "code",
        "colab": {}
      },
      "source": [
        "def Categorical_Encoder(df, column_name = 'Company_Size'):\n",
        "  temp_df = pd.get_dummies(df[column_name], prefix=column_name)\n",
        "  df = pd.concat([df, temp_df], axis=1)\n",
        "  return df"
      ],
      "execution_count": 0,
      "outputs": []
    },
    {
      "cell_type": "code",
      "metadata": {
        "id": "LXM64vQWc2bR",
        "colab_type": "code",
        "colab": {}
      },
      "source": [
        "categorical_column = ['Company_Size', 'ESRB_Rating', 'Platform', 'Genre']\n",
        "for column_name in categorical_column:\n",
        "    data_wps = Categorical_Encoder(data_wps, column_name)\n",
        "data = data_wps.drop(columns = ['Genre', 'Company_Size', 'ESRB_Rating', 'Platform'])"
      ],
      "execution_count": 0,
      "outputs": []
    },
    {
      "cell_type": "markdown",
      "metadata": {
        "id": "K1_UguN4muAq",
        "colab_type": "text"
      },
      "source": [
        "### Dealing with outliers"
      ]
    },
    {
      "cell_type": "code",
      "metadata": {
        "id": "uJlAeYKvnL4R",
        "colab_type": "code",
        "outputId": "d5de1cd2-2180-4afa-872f-f2c2c400dc49",
        "colab": {
          "base_uri": "https://localhost:8080/",
          "height": 51
        }
      },
      "source": [
        "sales = data.Global_Sales.values\n",
        "sales_95 = np.percentile(sales, 95)\n",
        "sales_5 = np.percentile(sales, 5)\n",
        "print(\"95% percentile of Global Sales is: \", sales_95)\n",
        "print(\"5% percentile of Global Sales is: \", sales_5)"
      ],
      "execution_count": 193,
      "outputs": [
        {
          "output_type": "stream",
          "text": [
            "95% percentile of Global Sales is:  1.62\n",
            "5% percentile of Global Sales is:  0.008100000000000001\n"
          ],
          "name": "stdout"
        }
      ]
    },
    {
      "cell_type": "code",
      "metadata": {
        "id": "tSAz7Pf3nVUI",
        "colab_type": "code",
        "colab": {}
      },
      "source": [
        "for i in range(sales.shape[0]):\n",
        "  if sales[i] > sales_95:\n",
        "    sales[i] = sales_95\n",
        "  elif sales[i] < sales_5:\n",
        "    sales[i] = sales_5\n",
        "  else:\n",
        "    continue"
      ],
      "execution_count": 0,
      "outputs": []
    },
    {
      "cell_type": "code",
      "metadata": {
        "id": "SnZfq-BUp0ts",
        "colab_type": "code",
        "colab": {}
      },
      "source": [
        "data[\"Global_Sales\"] = sales"
      ],
      "execution_count": 0,
      "outputs": []
    },
    {
      "cell_type": "markdown",
      "metadata": {
        "id": "VF2badSBoGcb",
        "colab_type": "text"
      },
      "source": [
        "#### output the processed data for modeling"
      ]
    },
    {
      "cell_type": "code",
      "metadata": {
        "id": "NM78A54-n_AO",
        "colab_type": "code",
        "colab": {}
      },
      "source": [
        "### output the processed data for modeling\n",
        "data.to_csv(\"data/data_v2.csv\", index=False, header=True)"
      ],
      "execution_count": 0,
      "outputs": []
    },
    {
      "cell_type": "markdown",
      "metadata": {
        "id": "HZdLxmGIRyGu",
        "colab_type": "text"
      },
      "source": [
        "# Modeling"
      ]
    },
    {
      "cell_type": "markdown",
      "metadata": {
        "id": "keglHoZnmrFs",
        "colab_type": "text"
      },
      "source": [
        "### Linear Regression"
      ]
    },
    {
      "cell_type": "code",
      "metadata": {
        "id": "YIty9O-bvdHU",
        "colab_type": "code",
        "colab": {}
      },
      "source": [
        "# Import packages for modeling here\n",
        "from sklearn.linear_model import LinearRegression\n",
        "from sklearn.model_selection import train_test_split, KFold\n",
        "from sklearn.ensemble import RandomForestRegressor\n",
        "from sklearn.metrics import r2_score, mean_squared_error"
      ],
      "execution_count": 0,
      "outputs": []
    },
    {
      "cell_type": "code",
      "metadata": {
        "id": "JRnkPvdHu7pb",
        "colab_type": "code",
        "colab": {}
      },
      "source": [
        "# Read Data\n",
        "# data = pd.read_csv(\"data.csv\")"
      ],
      "execution_count": 0,
      "outputs": []
    },
    {
      "cell_type": "code",
      "metadata": {
        "id": "688IhuSjvHYt",
        "colab_type": "code",
        "colab": {}
      },
      "source": [
        "def SplitData(data):\n",
        "  \"\"\"Split training and testing set\"\"\"\n",
        "  select_col_idx = [1] + [i for i in range(3, len(list(data)))]\n",
        "  X = data.iloc[:, select_col_idx].values\n",
        "  y = data.Global_Sales.values\n",
        "\n",
        "  # Split train test data\n",
        "  X_train, X_test, y_train, y_test = train_test_split(X, y, test_size=0.20, random_state=42)\n",
        "\n",
        "  return X_train, X_test, y_train, y_test"
      ],
      "execution_count": 0,
      "outputs": []
    },
    {
      "cell_type": "code",
      "metadata": {
        "id": "Kwa60CTAYIf1",
        "colab_type": "code",
        "outputId": "2f357266-6445-4182-de1a-caa96c3b8400",
        "colab": {
          "base_uri": "https://localhost:8080/",
          "height": 279
        }
      },
      "source": [
        "#check the distribution of numeric variable\n",
        "plt.figure() \n",
        "x = data['Price']\n",
        "plt.hist(x) \n",
        "plt.grid(alpha=0.5,linestyle='-.') \n",
        "plt.xlabel('Price')  \n",
        "plt.ylabel('Count')  \n",
        "plt.show()"
      ],
      "execution_count": 200,
      "outputs": [
        {
          "output_type": "display_data",
          "data": {
            "image/png": "[encoded data removed]",
            "text/plain": [
              "<Figure size 432x288 with 1 Axes>"
            ]
          },
          "metadata": {
            "tags": [],
            "needs_background": "light"
          }
        }
      ]
    },
    {
      "cell_type": "code",
      "metadata": {
        "id": "7tjsKz6vXEW7",
        "colab_type": "code",
        "colab": {}
      },
      "source": [
        "data['Price_t'] = np.log(data['Price'])\n",
        "data['Global_Sales'] = np.log(data['Global_Sales'])\n",
        "data = data.drop(columns=['Price'])\n",
        "#log transformation, to nearly normal distribution"
      ],
      "execution_count": 0,
      "outputs": []
    },
    {
      "cell_type": "code",
      "metadata": {
        "id": "ww29ZdJ_XaY_",
        "colab_type": "code",
        "outputId": "436f3038-9aa1-4806-d427-240007813b8c",
        "colab": {
          "base_uri": "https://localhost:8080/",
          "height": 282
        }
      },
      "source": [
        "# start modeling\n",
        "X_train, X_test, y_train, y_test = SplitData(data)\n",
        "reg = LinearRegression().fit(X_train, y_train)\n",
        "y_pred = reg.predict(X_test)\n",
        "plt.scatter(y_test,y_pred)"
      ],
      "execution_count": 203,
      "outputs": [
        {
          "output_type": "execute_result",
          "data": {
            "text/plain": [
              "<matplotlib.collections.PathCollection at 0x7f7d3a59ab00>"
            ]
          },
          "metadata": {
            "tags": []
          },
          "execution_count": 203
        },
        {
          "output_type": "display_data",
          "data": {
            "image/png": "[encoded data removed]",
            "text/plain": [
              "<Figure size 432x288 with 1 Axes>"
            ]
          },
          "metadata": {
            "tags": [],
            "needs_background": "light"
          }
        }
      ]
    },
    {
      "cell_type": "code",
      "metadata": {
        "id": "nGO1CcMEXn3u",
        "colab_type": "code",
        "outputId": "9c1d148c-0887-4e63-c4b9-78500af50dc1",
        "colab": {
          "base_uri": "https://localhost:8080/",
          "height": 34
        }
      },
      "source": [
        "reg.score(X_test, y_test) #R2"
      ],
      "execution_count": 204,
      "outputs": [
        {
          "output_type": "execute_result",
          "data": {
            "text/plain": [
              "0.46125553825762267"
            ]
          },
          "metadata": {
            "tags": []
          },
          "execution_count": 204
        }
      ]
    },
    {
      "cell_type": "code",
      "metadata": {
        "id": "OGzszDJfX1de",
        "colab_type": "code",
        "outputId": "4e6d619f-8c27-4c3f-ff59-53865732dbec",
        "colab": {
          "base_uri": "https://localhost:8080/",
          "height": 34
        }
      },
      "source": [
        "mean_squared_error(y_test, y_pred)"
      ],
      "execution_count": 205,
      "outputs": [
        {
          "output_type": "execute_result",
          "data": {
            "text/plain": [
              "1.1796670615744294"
            ]
          },
          "metadata": {
            "tags": []
          },
          "execution_count": 205
        }
      ]
    },
    {
      "cell_type": "markdown",
      "metadata": {
        "id": "erexlI9eR1em",
        "colab_type": "text"
      },
      "source": [
        "### Random Forest"
      ]
    },
    {
      "cell_type": "code",
      "metadata": {
        "id": "guGz0NuVO_AK",
        "colab_type": "code",
        "colab": {}
      },
      "source": [
        "# data = pd.read_csv(\"data_v2.csv\")\n",
        "# data[\"Global_Sales\"] = np.log(data[\"Global_Sales\"])\n",
        "# data[\"Price\"] = np.log(data[\"Price\"])"
      ],
      "execution_count": 0,
      "outputs": []
    },
    {
      "cell_type": "code",
      "metadata": {
        "id": "zdatyv0dG-_C",
        "colab_type": "code",
        "colab": {}
      },
      "source": [
        "def trainRandomForestReg(X_train, X_test, y_train, y_test, args_dict, eval_method=mean_squared_error):\n",
        "  \"\"\"Training on Random Forest Regression on given arguments\n",
        "    Arg:\n",
        "      args_dict (dictionary): A dictionary of hyper-parameter used for tuning\n",
        "  \"\"\"\n",
        "  regr = RandomForestRegressor(**args_dict)\n",
        "  regr.fit(X_train, y_train)\n",
        "  y_pred = regr.predict(X_test)\n",
        "  score = eval_method(y_test, y_pred)\n",
        "\n",
        "  return score, y_pred"
      ],
      "execution_count": 0,
      "outputs": []
    },
    {
      "cell_type": "code",
      "metadata": {
        "id": "8ZaT9ycpF-Kh",
        "colab_type": "code",
        "colab": {}
      },
      "source": [
        "def kFoldCV(X, y, args_dict, k=5):\n",
        "  \"\"\"Run k fold cross validation\"\"\"\n",
        "  \n",
        "  kf = KFold(n_splits=k)\n",
        "  sum_score = 0\n",
        "  for train_index, test_index in kf.split(X):\n",
        "    X_train, X_test = X[train_index], X[test_index]\n",
        "    y_train, y_test = y[train_index], y[test_index]\n",
        "    score, _ = trainRandomForestReg(X_train, X_test, y_train, y_test, args_dict)\n",
        "    sum_score += score\n",
        "  return sum_score / k"
      ],
      "execution_count": 0,
      "outputs": []
    },
    {
      "cell_type": "code",
      "metadata": {
        "id": "XMped9nyWtQ0",
        "colab_type": "code",
        "colab": {}
      },
      "source": [
        "def fineTuneParameter(X, y):\n",
        "  \"\"\"Initialize the range of hyperparameter we want to tune\"\"\"\n",
        "\n",
        "  # ===============================================================\n",
        "  # Currently we consider fine tune on n_estimators, max_depth\n",
        "  # n_estimators: number of trees\n",
        "  # max_depth: The maximum depth of the tree\n",
        "  # ===============================================================\n",
        "\n",
        "  # Initialize with default value\n",
        "  args_dict = {\"n_estimators\": 100, \n",
        "               \"max_depth\": None}\n",
        "  min_score = 1000\n",
        "  best_args_dict = args_dict\n",
        "\n",
        "  # Initialize a result dictionary, key: args_dict, value: scores\n",
        "  param_score = {}\n",
        "\n",
        "  for n in range(100, 210, 10):\n",
        "    for depth in [3, 4, 5, 6, 7, 8]:\n",
        "      args_dict[\"n_estimators\"] = n\n",
        "      args_dict[\"max_depth\"] = depth\n",
        "      kfold_score = kFoldCV(X, y, args_dict)\n",
        "      param_combin = \"n_estimators: \" + str(n) + \" , max_depth: \" + str(depth)\n",
        "      param_score[param_combin] = kfold_score\n",
        "\n",
        "      # Update best score and parameter combination\n",
        "      if kfold_score < min_score:\n",
        "        min_score, best_args_dict = kfold_score, args_dict\n",
        "  \n",
        "  return min_score, best_args_dict, param_score"
      ],
      "execution_count": 0,
      "outputs": []
    },
    {
      "cell_type": "code",
      "metadata": {
        "id": "yg6Fyufa6Eiz",
        "colab_type": "code",
        "colab": {}
      },
      "source": [
        "# Start Random Forest Model\n",
        "X_train, X_test, y_train, y_test = SplitData(data)\n",
        "\n",
        "# Cross Validation on Training set\n",
        "# min_score, best_args_dict, param_score = fineTuneParameter(X_train, y_train)"
      ],
      "execution_count": 0,
      "outputs": []
    },
    {
      "cell_type": "code",
      "metadata": {
        "id": "twAQUmwu6hDj",
        "colab_type": "code",
        "colab": {}
      },
      "source": [
        "# Run Random Forest regression on best combination\n",
        "best_args_dict = {'max_depth': 10, 'n_estimators': 200}\n",
        "score, y_pred = trainRandomForestReg(X_train, X_test, y_train, y_test, best_args_dict)"
      ],
      "execution_count": 0,
      "outputs": []
    },
    {
      "cell_type": "code",
      "metadata": {
        "id": "Z0YYe_mmWbpu",
        "colab_type": "code",
        "outputId": "2efd1e39-eb14-4494-8761-7afe75ea1234",
        "colab": {
          "base_uri": "https://localhost:8080/",
          "height": 282
        }
      },
      "source": [
        "plt.scatter(y_test, y_pred)"
      ],
      "execution_count": 211,
      "outputs": [
        {
          "output_type": "execute_result",
          "data": {
            "text/plain": [
              "<matplotlib.collections.PathCollection at 0x7f7d3c6a5208>"
            ]
          },
          "metadata": {
            "tags": []
          },
          "execution_count": 211
        },
        {
          "output_type": "display_data",
          "data": {
            "image/png": "[encoded data removed]",
            "text/plain": [
              "<Figure size 432x288 with 1 Axes>"
            ]
          },
          "metadata": {
            "tags": [],
            "needs_background": "light"
          }
        }
      ]
    },
    {
      "cell_type": "code",
      "metadata": {
        "id": "wt2EucibdVsO",
        "colab_type": "code",
        "outputId": "ac3b1f24-a748-460d-e850-15d3e96224ed",
        "colab": {
          "base_uri": "https://localhost:8080/",
          "height": 34
        }
      },
      "source": [
        "mean_squared_error(y_test, y_pred)"
      ],
      "execution_count": 212,
      "outputs": [
        {
          "output_type": "execute_result",
          "data": {
            "text/plain": [
              "1.1873339674406738"
            ]
          },
          "metadata": {
            "tags": []
          },
          "execution_count": 212
        }
      ]
    },
    {
      "cell_type": "code",
      "metadata": {
        "id": "hcCp2hZH3xfQ",
        "colab_type": "code",
        "outputId": "ae0bd667-e9f7-4cba-92af-c30c6f50d62b",
        "colab": {
          "base_uri": "https://localhost:8080/",
          "height": 34
        }
      },
      "source": [
        "r2_score(y_test, y_pred)"
      ],
      "execution_count": 213,
      "outputs": [
        {
          "output_type": "execute_result",
          "data": {
            "text/plain": [
              "0.4577541239953421"
            ]
          },
          "metadata": {
            "tags": []
          },
          "execution_count": 213
        }
      ]
    },
    {
      "cell_type": "code",
      "metadata": {
        "id": "hoxaiWw5muAU",
        "colab_type": "code",
        "outputId": "d9e86678-36e3-483a-ba03-1d66ccc4f229",
        "colab": {
          "base_uri": "https://localhost:8080/",
          "height": 34
        }
      },
      "source": [
        "best_args_dict"
      ],
      "execution_count": 214,
      "outputs": [
        {
          "output_type": "execute_result",
          "data": {
            "text/plain": [
              "{'max_depth': 10, 'n_estimators': 200}"
            ]
          },
          "metadata": {
            "tags": []
          },
          "execution_count": 214
        }
      ]
    },
    {
      "cell_type": "markdown",
      "metadata": {
        "id": "glhIz4Pk1GmR",
        "colab_type": "text"
      },
      "source": [
        "# Save the model"
      ]
    },
    {
      "cell_type": "code",
      "metadata": {
        "id": "cDbYHOGn1FQn",
        "colab_type": "code",
        "outputId": "f76e3be5-f97e-4b68-9cfc-6c5f4a2f7720",
        "colab": {
          "base_uri": "https://localhost:8080/",
          "height": 136
        }
      },
      "source": [
        "import pickle\n",
        "Pkl_Filename = \"Random_Forest_Model.pkl\"  \n",
        "\n",
        "\n",
        "# Get the model\n",
        "regr = RandomForestRegressor(**best_args_dict)\n",
        "regr.fit(X_train, y_train)\n",
        "\n",
        "\n",
        "# with open(Pkl_Filename, 'wb') as file:  \n",
        "#     pickle.dump(regr, file)"
      ],
      "execution_count": 215,
      "outputs": [
        {
          "output_type": "execute_result",
          "data": {
            "text/plain": [
              "RandomForestRegressor(bootstrap=True, ccp_alpha=0.0, criterion='mse',\n",
              "                      max_depth=10, max_features='auto', max_leaf_nodes=None,\n",
              "                      max_samples=None, min_impurity_decrease=0.0,\n",
              "                      min_impurity_split=None, min_samples_leaf=1,\n",
              "                      min_samples_split=2, min_weight_fraction_leaf=0.0,\n",
              "                      n_estimators=200, n_jobs=None, oob_score=False,\n",
              "                      random_state=None, verbose=0, warm_start=False)"
            ]
          },
          "metadata": {
            "tags": []
          },
          "execution_count": 215
        }
      ]
    }
  ]
}
